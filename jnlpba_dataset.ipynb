{
  "nbformat": 4,
  "nbformat_minor": 0,
  "metadata": {
    "colab": {
      "name": "jnlpba_dataset.ipynb",
      "provenance": [],
      "collapsed_sections": []
    },
    "kernelspec": {
      "name": "python3",
      "display_name": "Python 3"
    },
    "language_info": {
      "name": "python"
    },
    "accelerator": "GPU"
  },
  "cells": [
    {
      "cell_type": "code",
      "source": [
        "from google.colab import drive\n",
        "drive.mount('/gdrive')"
      ],
      "metadata": {
        "id": "TtqctcAi2Dqi"
      },
      "execution_count": null,
      "outputs": []
    },
    {
      "cell_type": "code",
      "source": [
        "!pip install datasets"
      ],
      "metadata": {
        "id": "yr8TfGb1NjDW"
      },
      "execution_count": null,
      "outputs": []
    },
    {
      "cell_type": "code",
      "source": [
        "from datasets import load_dataset\n",
        "\n",
        "dataset = load_dataset(\"jnlpba\")"
      ],
      "metadata": {
        "id": "dbVNQSmpLtDr"
      },
      "execution_count": null,
      "outputs": []
    },
    {
      "cell_type": "code",
      "source": [
        "task = \"ner\" \n",
        "model_checkpoint = \"distilbert-base-uncased\"\n",
        "batch_size = 8"
      ],
      "metadata": {
        "id": "U_tdKbgVxb4j"
      },
      "execution_count": null,
      "outputs": []
    },
    {
      "cell_type": "code",
      "source": [
        "dataset"
      ],
      "metadata": {
        "id": "BDPxZxzuBju7"
      },
      "execution_count": null,
      "outputs": []
    },
    {
      "cell_type": "code",
      "source": [
        "dataset[\"validation\"][0]"
      ],
      "metadata": {
        "id": "336UZCDc2SDM"
      },
      "execution_count": null,
      "outputs": []
    },
    {
      "cell_type": "code",
      "source": [
        "dataset[\"train\"][0]"
      ],
      "metadata": {
        "id": "wEZBmDPzo0se"
      },
      "execution_count": null,
      "outputs": []
    },
    {
      "cell_type": "code",
      "source": [
        "label_list = dataset[\"train\"].features[f\"ner_tags\"].feature.names\n",
        "print(label_list)"
      ],
      "metadata": {
        "id": "osUpvZScpP62"
      },
      "execution_count": null,
      "outputs": []
    },
    {
      "cell_type": "code",
      "source": [
        "label_list2 = dataset[\"validation\"].features[f\"ner_tags\"].feature.names\n",
        "print(label_list2)"
      ],
      "metadata": {
        "id": "AH8141sl2YrH"
      },
      "execution_count": null,
      "outputs": []
    },
    {
      "cell_type": "code",
      "source": [
        "from datasets import load_dataset\n",
        "train = load_dataset(\"jnlpba\", split=\"train\")"
      ],
      "metadata": {
        "id": "3LIDgNRY2LBM"
      },
      "execution_count": null,
      "outputs": []
    },
    {
      "cell_type": "code",
      "source": [
        "\n",
        "from datasets import load_dataset\n",
        "validation = load_dataset(\"jnlpba\", split=\"validation\")"
      ],
      "metadata": {
        "id": "NPeJ7asM2su6"
      },
      "execution_count": null,
      "outputs": []
    },
    {
      "cell_type": "code",
      "source": [
        "count =0\n",
        "count_2 =0\n",
        "count_3 = 0\n",
        "count_4 = 0\n",
        "count_5 = 0\n",
        "count_6 = 0\n",
        "count_7 = 0\n",
        "count_8 = 0\n",
        "count_9 = 0\n",
        "count_10 = 0\n",
        "for rows in validation['ner_tags']:\n",
        "  for num in rows:\n",
        "    if num == 1:\n",
        "      count +=1\n",
        "    elif num == 2:\n",
        "      count_2 +=1\n",
        "    elif num == 3:\n",
        "      count_3 +=1\n",
        "    elif num == 4:\n",
        "      count_4 +=1\n",
        "    elif num == 5:\n",
        "      count_5 +=1\n",
        "    elif num == 6:\n",
        "      count_6 +=1\n",
        "    elif num == 7:\n",
        "      count_7 +=1\n",
        "    elif num == 8:\n",
        "      count_8 +=1\n",
        "    elif num == 9:\n",
        "      count_9 +=1\n",
        "    elif num == 10:\n",
        "      count_10 +=1\n",
        "    \n",
        "print(\"Number of 1 tags in dataset: \",count)\n",
        "print(\"Number of 2 tags in dataset:\",count_2)\n",
        "print(\"Number of 3 tags in dataset:\",count_3)\n",
        "print(\"Number of 4 tags in dataset:\",count_4)\n",
        "print(\"Number of 5 tags in dataset:\",count_5)\n",
        "print(\"Number of 6 tags in dataset:\",count_6)\n",
        "print(\"Number of 7 tags in dataset:\",count_7)\n",
        "print(\"Number of 8 tags in dataset:\",count_8)\n",
        "print(\"Number of 9 tags in dataset:\",count_9)\n",
        "print(\"Number of 10 tags in dataset:\",count_10)"
      ],
      "metadata": {
        "id": "6w1q6I452nuy"
      },
      "execution_count": null,
      "outputs": []
    },
    {
      "cell_type": "code",
      "source": [
        "import pandas\n",
        "train.set_format(\"pandas\")\n",
        "train[0]\n"
      ],
      "metadata": {
        "id": "NcKiVtxvwguj"
      },
      "execution_count": null,
      "outputs": []
    },
    {
      "cell_type": "code",
      "source": [
        "train"
      ],
      "metadata": {
        "id": "RfR8xY0t17SL"
      },
      "execution_count": null,
      "outputs": []
    },
    {
      "cell_type": "code",
      "source": [
        "train.__getitem__(0)\n",
        "\n",
        "train.set_format(\"pandas\")\n",
        "\n",
        "train.__getitem__(0)"
      ],
      "metadata": {
        "id": "ELts1BMm2kYZ",
        "outputId": "ef3b3e02-db45-48d3-d3e8-cf94cab1a16d",
        "colab": {
          "base_uri": "https://localhost:8080/"
        }
      },
      "execution_count": null,
      "outputs": [
        {
          "output_type": "error",
          "ename": "NameError",
          "evalue": "ignored",
          "traceback": [
            "\u001b[0;31m---------------------------------------------------------------------------\u001b[0m",
            "\u001b[0;31mNameError\u001b[0m                                 Traceback (most recent call last)",
            "\u001b[0;32m<ipython-input-1-7be1f327857b>\u001b[0m in \u001b[0;36m<module>\u001b[0;34m\u001b[0m\n\u001b[0;32m----> 1\u001b[0;31m \u001b[0mtrain\u001b[0m\u001b[0;34m.\u001b[0m\u001b[0m__getitem__\u001b[0m\u001b[0;34m(\u001b[0m\u001b[0;36m0\u001b[0m\u001b[0;34m)\u001b[0m\u001b[0;34m\u001b[0m\u001b[0;34m\u001b[0m\u001b[0m\n\u001b[0m\u001b[1;32m      2\u001b[0m \u001b[0;34m\u001b[0m\u001b[0m\n\u001b[1;32m      3\u001b[0m \u001b[0mtrain\u001b[0m\u001b[0;34m.\u001b[0m\u001b[0mset_format\u001b[0m\u001b[0;34m(\u001b[0m\u001b[0;34m\"pandas\"\u001b[0m\u001b[0;34m)\u001b[0m\u001b[0;34m\u001b[0m\u001b[0;34m\u001b[0m\u001b[0m\n\u001b[1;32m      4\u001b[0m \u001b[0;34m\u001b[0m\u001b[0m\n\u001b[1;32m      5\u001b[0m \u001b[0mtrain\u001b[0m\u001b[0;34m.\u001b[0m\u001b[0m__getitem__\u001b[0m\u001b[0;34m(\u001b[0m\u001b[0;36m0\u001b[0m\u001b[0;34m)\u001b[0m\u001b[0;34m\u001b[0m\u001b[0;34m\u001b[0m\u001b[0m\n",
            "\u001b[0;31mNameError\u001b[0m: name 'train' is not defined"
          ]
        }
      ]
    },
    {
      "cell_type": "code",
      "source": [
        "df = train.to_pandas()\n",
        "df.head()"
      ],
      "metadata": {
        "id": "Yn0esJJF2nnE"
      },
      "execution_count": null,
      "outputs": []
    },
    {
      "cell_type": "code",
      "source": [
        "df1 = validation.to_pandas()\n",
        "df1.head(1)"
      ],
      "metadata": {
        "id": "WYjTueURenZP"
      },
      "execution_count": null,
      "outputs": []
    },
    {
      "cell_type": "code",
      "source": [
        "train['tokens']"
      ],
      "metadata": {
        "id": "nNz8yS2N2_72"
      },
      "execution_count": null,
      "outputs": []
    },
    {
      "cell_type": "code",
      "source": [
        "train.shape"
      ],
      "metadata": {
        "id": "CQXZvOPE5c0x"
      },
      "execution_count": null,
      "outputs": []
    },
    {
      "cell_type": "code",
      "source": [
        "\n",
        "df.head()"
      ],
      "metadata": {
        "id": "f9wrdfLhS4Da"
      },
      "execution_count": null,
      "outputs": []
    },
    {
      "cell_type": "code",
      "source": [
        "\n",
        "\n",
        "\n",
        "import string"
      ],
      "metadata": {
        "id": "Bn_3qDbaefU9"
      },
      "execution_count": null,
      "outputs": []
    },
    {
      "cell_type": "code",
      "source": [
        "train"
      ],
      "metadata": {
        "id": "Dqm54a4b3awG"
      },
      "execution_count": null,
      "outputs": []
    },
    {
      "cell_type": "code",
      "source": [
        "text_file = train['tokens']\n",
        "flat_list=[]\n",
        "for sublist in text_file:\n",
        "    for item in sublist:\n",
        "        flat_list.append(item)\n",
        "\n",
        "\n",
        "textfile = open(\"test_tokens.txt\", \"w\")\n",
        "for element in flat_list:\n",
        "    textfile.write(element + \"\\n\")\n",
        "textfile.close()\n",
        "\n",
        "\n",
        "!wordcloud_cli --text ./test_tokens.txt --imagefile test_wordcloud.png"
      ],
      "metadata": {
        "id": "2XznmRvdyp1s"
      },
      "execution_count": null,
      "outputs": []
    },
    {
      "cell_type": "code",
      "source": [
        "!pip install transformers"
      ],
      "metadata": {
        "id": "jwrnqfiIOBjt"
      },
      "execution_count": null,
      "outputs": []
    },
    {
      "cell_type": "code",
      "source": [
        "from transformers import AutoTokenizer\n",
        "tokenizer = AutoTokenizer.from_pretrained('distilbert-base-uncased') "
      ],
      "metadata": {
        "id": "ewnMkJQ837jZ"
      },
      "execution_count": null,
      "outputs": []
    },
    {
      "cell_type": "code",
      "source": [
        "import transformers\n",
        "assert isinstance(tokenizer, transformers.PreTrainedTokenizerFast)"
      ],
      "metadata": {
        "id": "D1ZPMlIx55_L"
      },
      "execution_count": null,
      "outputs": []
    },
    {
      "cell_type": "code",
      "source": [
        "example = dataset['validation'][0]\n",
        "print(example[\"tokens\"])"
      ],
      "metadata": {
        "id": "zeBcqyj5wyV3"
      },
      "execution_count": null,
      "outputs": []
    },
    {
      "cell_type": "code",
      "source": [
        "train[0]"
      ],
      "metadata": {
        "id": "iOIwRYoCxAR4"
      },
      "execution_count": null,
      "outputs": []
    },
    {
      "cell_type": "code",
      "source": [
        "tokenized_input = tokenizer(example[\"tokens\"], is_split_into_words=True)\n",
        "tokens = tokenizer.convert_ids_to_tokens(tokenized_input[\"input_ids\"])\n",
        "tokens"
      ],
      "metadata": {
        "id": "HHdT8wjot7ye"
      },
      "execution_count": null,
      "outputs": []
    },
    {
      "cell_type": "code",
      "source": [
        "print(tokenized_input.word_ids())"
      ],
      "metadata": {
        "id": "DWyifB8cvgiR"
      },
      "execution_count": null,
      "outputs": []
    },
    {
      "cell_type": "code",
      "source": [
        "word_ids = tokenized_input.word_ids()\n",
        "aligned_labels = [-100 if i is None else example[f\"{task}_tags\"][i] for i in word_ids]\n",
        "print(len(aligned_labels), len(tokenized_input[\"input_ids\"]))"
      ],
      "metadata": {
        "id": "-ZY9p4NvxKjw"
      },
      "execution_count": null,
      "outputs": []
    },
    {
      "cell_type": "code",
      "source": [
        "label_all_tokens = True"
      ],
      "metadata": {
        "id": "3RgD-aJdxQZn"
      },
      "execution_count": null,
      "outputs": []
    },
    {
      "cell_type": "code",
      "source": [
        "def tokenize_and_align_labels(examples):\n",
        "    tokenized_inputs = tokenizer(examples[\"tokens\"], truncation=True, is_split_into_words=True)\n",
        "\n",
        "    labels = []\n",
        "    for i, label in enumerate(examples[f\"{task}_tags\"]):\n",
        "        word_ids = tokenized_inputs.word_ids(batch_index=i)\n",
        "        previous_word_idx = None\n",
        "        label_ids = []\n",
        "        for word_idx in word_ids:\n",
        "            \n",
        "            if word_idx is None:\n",
        "                label_ids.append(-100)\n",
        "            \n",
        "            elif word_idx != previous_word_idx:\n",
        "                label_ids.append(label[word_idx])\n",
        "           \n",
        "            else:\n",
        "                label_ids.append(label[word_idx] if label_all_tokens else -100)\n",
        "            previous_word_idx = word_idx\n",
        "\n",
        "        labels.append(label_ids)\n",
        "\n",
        "    tokenized_inputs[\"labels\"] = labels\n",
        "    return tokenized_inputs"
      ],
      "metadata": {
        "id": "lMVFqtP6xnjS"
      },
      "execution_count": null,
      "outputs": []
    },
    {
      "cell_type": "code",
      "source": [
        "tokenize_and_align_labels(dataset['train'][:3])"
      ],
      "metadata": {
        "id": "gYumTSbcxyqt"
      },
      "execution_count": null,
      "outputs": []
    },
    {
      "cell_type": "code",
      "source": [
        "tokenized_datasets = dataset.map(tokenize_and_align_labels, batched=True)"
      ],
      "metadata": {
        "id": "Cw688-mJx7jD"
      },
      "execution_count": null,
      "outputs": []
    },
    {
      "cell_type": "code",
      "source": [
        "tokenized_datasets"
      ],
      "metadata": {
        "id": "wQp4F1Ufcd8D"
      },
      "execution_count": null,
      "outputs": []
    },
    {
      "cell_type": "code",
      "source": [
        "from transformers import AutoModelForTokenClassification, TrainingArguments, Trainer\n",
        "\n",
        "model = AutoModelForTokenClassification.from_pretrained(model_checkpoint, num_labels=len(label_list))"
      ],
      "metadata": {
        "id": "cd7kQeEyyDzd"
      },
      "execution_count": null,
      "outputs": []
    },
    {
      "cell_type": "code",
      "source": [
        "\n",
        "# model_name = model_checkpoint.split(\"/\")[-1]\n",
        "# args = TrainingArguments(\n",
        "#     f\"{model_name}-finetuned-{task}\",\n",
        "#     evaluation_strategy = \"epoch\",\n",
        "#     learning_rate=2e-5,\n",
        "#     per_device_train_batch_size=batch_size,\n",
        "#     per_device_eval_batch_size=batch_size,\n",
        "#     num_train_epochs=50,\n",
        "#     weight_decay=0.01,\n",
        "#     push_to_hub=True,\n",
        "# )"
      ],
      "metadata": {
        "id": "ZQCGwS5NyZD1"
      },
      "execution_count": null,
      "outputs": []
    },
    {
      "cell_type": "code",
      "source": [
        "from transformers import DataCollatorForTokenClassification\n",
        "\n",
        "data_collator = DataCollatorForTokenClassification(tokenizer)"
      ],
      "metadata": {
        "id": "vPtrmIwhym4_"
      },
      "execution_count": null,
      "outputs": []
    },
    {
      "cell_type": "code",
      "source": [
        "!pip install seqeval"
      ],
      "metadata": {
        "id": "Q1ak6X3QOe3T"
      },
      "execution_count": null,
      "outputs": []
    },
    {
      "cell_type": "code",
      "source": [
        "from datasets import load_dataset, load_metric\n",
        "metric = load_metric(\"seqeval\")"
      ],
      "metadata": {
        "id": "vrWC5xkbyp8s"
      },
      "execution_count": null,
      "outputs": []
    },
    {
      "cell_type": "code",
      "source": [
        "labels = [label_list[i] for i in example[f\"{task}_tags\"]]\n",
        "metric.compute(predictions=[labels], references=[labels])"
      ],
      "metadata": {
        "id": "_6kbpUp_0IxM"
      },
      "execution_count": null,
      "outputs": []
    },
    {
      "cell_type": "code",
      "source": [
        "import numpy as np\n",
        "\n",
        "def compute_metrics(p):\n",
        "    predictions, labels = p\n",
        "    predictions = np.argmax(predictions, axis=2)\n",
        "\n",
        "    # Remove ignored index (special tokens)\n",
        "    true_predictions = [\n",
        "        [label_list[p] for (p, l) in zip(prediction, label) if l != -100]\n",
        "        for prediction, label in zip(predictions, labels)\n",
        "    ]\n",
        "    true_labels = [\n",
        "        [label_list[l] for (p, l) in zip(prediction, label) if l != -100]\n",
        "        for prediction, label in zip(predictions, labels)\n",
        "    ]\n",
        "\n",
        "    results = metric.compute(predictions=true_predictions, references=true_labels)\n",
        "    return {\n",
        "        \"precision\": results[\"overall_precision\"],\n",
        "        \"recall\": results[\"overall_recall\"],\n",
        "        \"f1\": results[\"overall_f1\"],\n",
        "        \"accuracy\": results[\"overall_accuracy\"],\n",
        "    }"
      ],
      "metadata": {
        "id": "3fEeVEXV0o3V"
      },
      "execution_count": null,
      "outputs": []
    },
    {
      "cell_type": "markdown",
      "source": [
        "training api"
      ],
      "metadata": {
        "id": "U3ag5k-Y_HU_"
      }
    },
    {
      "cell_type": "code",
      "source": [
        "# import os\n",
        "# os.listdir(\"/gdrive/MyDrive/jnlpba\")"
      ],
      "metadata": {
        "id": "hFGZVStV3h5J"
      },
      "execution_count": null,
      "outputs": []
    },
    {
      "cell_type": "code",
      "source": [
        "training_args = TrainingArguments(\n",
        "    output_dir=\"/gdrive/MyDrive/jnlpba/\",\n",
        "    evaluation_strategy=\"epoch\",\n",
        "    learning_rate=2e-5,\n",
        "    per_device_train_batch_size=8,\n",
        "    per_device_eval_batch_size=8,\n",
        "    num_train_epochs=20,\n",
        "    weight_decay=0.01,\n",
        ")"
      ],
      "metadata": {
        "id": "_etMMQle1N2m"
      },
      "execution_count": null,
      "outputs": []
    },
    {
      "cell_type": "code",
      "source": [],
      "metadata": {
        "id": "A4un9REv3A7B"
      },
      "execution_count": null,
      "outputs": []
    },
    {
      "cell_type": "code",
      "source": [
        "trainer = Trainer(\n",
        "    model=model,\n",
        "    args=training_args,\n",
        "    train_dataset=tokenized_datasets[\"train\"],\n",
        "    eval_dataset=tokenized_datasets[\"validation\"],\n",
        "    data_collator=data_collator,\n",
        "    tokenizer=tokenizer,\n",
        "    compute_metrics=compute_metrics\n",
        ")"
      ],
      "metadata": {
        "id": "ZsIHiI1n_Jv0"
      },
      "execution_count": null,
      "outputs": []
    },
    {
      "cell_type": "code",
      "source": [
        "trainer.train()"
      ],
      "metadata": {
        "colab": {
          "base_uri": "https://localhost:8080/",
          "height": 1000
        },
        "id": "rBbc15Ko_Thu",
        "outputId": "7fc05201-0832-45dd-bf66-365ddee55ae5"
      },
      "execution_count": null,
      "outputs": [
        {
          "output_type": "stream",
          "name": "stderr",
          "text": [
            "The following columns in the training set don't have a corresponding argument in `DistilBertForTokenClassification.forward` and have been ignored: tokens, ner_tags, id. If tokens, ner_tags, id are not expected by `DistilBertForTokenClassification.forward`,  you can safely ignore this message.\n",
            "/usr/local/lib/python3.7/dist-packages/transformers/optimization.py:310: FutureWarning: This implementation of AdamW is deprecated and will be removed in a future version. Use the PyTorch implementation torch.optim.AdamW instead, or set `no_deprecation_warning=True` to disable this warning\n",
            "  FutureWarning,\n",
            "***** Running training *****\n",
            "  Num examples = 37094\n",
            "  Num Epochs = 20\n",
            "  Instantaneous batch size per device = 8\n",
            "  Total train batch size (w. parallel, distributed & accumulation) = 8\n",
            "  Gradient Accumulation steps = 1\n",
            "  Total optimization steps = 92740\n"
          ]
        },
        {
          "output_type": "display_data",
          "data": {
            "text/plain": [
              "<IPython.core.display.HTML object>"
            ],
            "text/html": [
              "\n",
              "    <div>\n",
              "      \n",
              "      <progress value='12903' max='92740' style='width:300px; height:20px; vertical-align: middle;'></progress>\n",
              "      [12903/92740 37:37 < 3:52:47, 5.72 it/s, Epoch 2.78/20]\n",
              "    </div>\n",
              "    <table border=\"1\" class=\"dataframe\">\n",
              "  <thead>\n",
              " <tr style=\"text-align: left;\">\n",
              "      <th>Epoch</th>\n",
              "      <th>Training Loss</th>\n",
              "      <th>Validation Loss</th>\n",
              "      <th>Precision</th>\n",
              "      <th>Recall</th>\n",
              "      <th>F1</th>\n",
              "      <th>Accuracy</th>\n",
              "    </tr>\n",
              "  </thead>\n",
              "  <tbody>\n",
              "    <tr>\n",
              "      <td>1</td>\n",
              "      <td>0.197100</td>\n",
              "      <td>0.308482</td>\n",
              "      <td>0.703487</td>\n",
              "      <td>0.806244</td>\n",
              "      <td>0.751369</td>\n",
              "      <td>0.904193</td>\n",
              "    </tr>\n",
              "    <tr>\n",
              "      <td>2</td>\n",
              "      <td>0.139400</td>\n",
              "      <td>0.353866</td>\n",
              "      <td>0.718781</td>\n",
              "      <td>0.808831</td>\n",
              "      <td>0.761152</td>\n",
              "      <td>0.908730</td>\n",
              "    </tr>\n",
              "  </tbody>\n",
              "</table><p>"
            ]
          },
          "metadata": {}
        },
        {
          "output_type": "stream",
          "name": "stderr",
          "text": [
            "Saving model checkpoint to /gdrive/MyDrive/jnlpba/checkpoint-500\n",
            "Configuration saved in /gdrive/MyDrive/jnlpba/checkpoint-500/config.json\n",
            "Model weights saved in /gdrive/MyDrive/jnlpba/checkpoint-500/pytorch_model.bin\n",
            "tokenizer config file saved in /gdrive/MyDrive/jnlpba/checkpoint-500/tokenizer_config.json\n",
            "Special tokens file saved in /gdrive/MyDrive/jnlpba/checkpoint-500/special_tokens_map.json\n",
            "Saving model checkpoint to /gdrive/MyDrive/jnlpba/checkpoint-1000\n",
            "Configuration saved in /gdrive/MyDrive/jnlpba/checkpoint-1000/config.json\n",
            "Model weights saved in /gdrive/MyDrive/jnlpba/checkpoint-1000/pytorch_model.bin\n",
            "tokenizer config file saved in /gdrive/MyDrive/jnlpba/checkpoint-1000/tokenizer_config.json\n",
            "Special tokens file saved in /gdrive/MyDrive/jnlpba/checkpoint-1000/special_tokens_map.json\n",
            "Saving model checkpoint to /gdrive/MyDrive/jnlpba/checkpoint-1500\n",
            "Configuration saved in /gdrive/MyDrive/jnlpba/checkpoint-1500/config.json\n",
            "Model weights saved in /gdrive/MyDrive/jnlpba/checkpoint-1500/pytorch_model.bin\n",
            "tokenizer config file saved in /gdrive/MyDrive/jnlpba/checkpoint-1500/tokenizer_config.json\n",
            "Special tokens file saved in /gdrive/MyDrive/jnlpba/checkpoint-1500/special_tokens_map.json\n",
            "Saving model checkpoint to /gdrive/MyDrive/jnlpba/checkpoint-2000\n",
            "Configuration saved in /gdrive/MyDrive/jnlpba/checkpoint-2000/config.json\n",
            "Model weights saved in /gdrive/MyDrive/jnlpba/checkpoint-2000/pytorch_model.bin\n",
            "tokenizer config file saved in /gdrive/MyDrive/jnlpba/checkpoint-2000/tokenizer_config.json\n",
            "Special tokens file saved in /gdrive/MyDrive/jnlpba/checkpoint-2000/special_tokens_map.json\n",
            "Saving model checkpoint to /gdrive/MyDrive/jnlpba/checkpoint-2500\n",
            "Configuration saved in /gdrive/MyDrive/jnlpba/checkpoint-2500/config.json\n",
            "Model weights saved in /gdrive/MyDrive/jnlpba/checkpoint-2500/pytorch_model.bin\n",
            "tokenizer config file saved in /gdrive/MyDrive/jnlpba/checkpoint-2500/tokenizer_config.json\n",
            "Special tokens file saved in /gdrive/MyDrive/jnlpba/checkpoint-2500/special_tokens_map.json\n",
            "Saving model checkpoint to /gdrive/MyDrive/jnlpba/checkpoint-3000\n",
            "Configuration saved in /gdrive/MyDrive/jnlpba/checkpoint-3000/config.json\n",
            "Model weights saved in /gdrive/MyDrive/jnlpba/checkpoint-3000/pytorch_model.bin\n",
            "tokenizer config file saved in /gdrive/MyDrive/jnlpba/checkpoint-3000/tokenizer_config.json\n",
            "Special tokens file saved in /gdrive/MyDrive/jnlpba/checkpoint-3000/special_tokens_map.json\n",
            "Saving model checkpoint to /gdrive/MyDrive/jnlpba/checkpoint-3500\n",
            "Configuration saved in /gdrive/MyDrive/jnlpba/checkpoint-3500/config.json\n",
            "Model weights saved in /gdrive/MyDrive/jnlpba/checkpoint-3500/pytorch_model.bin\n",
            "tokenizer config file saved in /gdrive/MyDrive/jnlpba/checkpoint-3500/tokenizer_config.json\n",
            "Special tokens file saved in /gdrive/MyDrive/jnlpba/checkpoint-3500/special_tokens_map.json\n",
            "Saving model checkpoint to /gdrive/MyDrive/jnlpba/checkpoint-4000\n",
            "Configuration saved in /gdrive/MyDrive/jnlpba/checkpoint-4000/config.json\n",
            "Model weights saved in /gdrive/MyDrive/jnlpba/checkpoint-4000/pytorch_model.bin\n",
            "tokenizer config file saved in /gdrive/MyDrive/jnlpba/checkpoint-4000/tokenizer_config.json\n",
            "Special tokens file saved in /gdrive/MyDrive/jnlpba/checkpoint-4000/special_tokens_map.json\n",
            "Saving model checkpoint to /gdrive/MyDrive/jnlpba/checkpoint-4500\n",
            "Configuration saved in /gdrive/MyDrive/jnlpba/checkpoint-4500/config.json\n",
            "Model weights saved in /gdrive/MyDrive/jnlpba/checkpoint-4500/pytorch_model.bin\n",
            "tokenizer config file saved in /gdrive/MyDrive/jnlpba/checkpoint-4500/tokenizer_config.json\n",
            "Special tokens file saved in /gdrive/MyDrive/jnlpba/checkpoint-4500/special_tokens_map.json\n",
            "The following columns in the evaluation set don't have a corresponding argument in `DistilBertForTokenClassification.forward` and have been ignored: tokens, ner_tags, id. If tokens, ner_tags, id are not expected by `DistilBertForTokenClassification.forward`,  you can safely ignore this message.\n",
            "***** Running Evaluation *****\n",
            "  Num examples = 7714\n",
            "  Batch size = 8\n",
            "Saving model checkpoint to /gdrive/MyDrive/jnlpba/checkpoint-5000\n",
            "Configuration saved in /gdrive/MyDrive/jnlpba/checkpoint-5000/config.json\n",
            "Model weights saved in /gdrive/MyDrive/jnlpba/checkpoint-5000/pytorch_model.bin\n",
            "tokenizer config file saved in /gdrive/MyDrive/jnlpba/checkpoint-5000/tokenizer_config.json\n",
            "Special tokens file saved in /gdrive/MyDrive/jnlpba/checkpoint-5000/special_tokens_map.json\n",
            "Saving model checkpoint to /gdrive/MyDrive/jnlpba/checkpoint-5500\n",
            "Configuration saved in /gdrive/MyDrive/jnlpba/checkpoint-5500/config.json\n",
            "Model weights saved in /gdrive/MyDrive/jnlpba/checkpoint-5500/pytorch_model.bin\n",
            "tokenizer config file saved in /gdrive/MyDrive/jnlpba/checkpoint-5500/tokenizer_config.json\n",
            "Special tokens file saved in /gdrive/MyDrive/jnlpba/checkpoint-5500/special_tokens_map.json\n",
            "Saving model checkpoint to /gdrive/MyDrive/jnlpba/checkpoint-6000\n",
            "Configuration saved in /gdrive/MyDrive/jnlpba/checkpoint-6000/config.json\n",
            "Model weights saved in /gdrive/MyDrive/jnlpba/checkpoint-6000/pytorch_model.bin\n",
            "tokenizer config file saved in /gdrive/MyDrive/jnlpba/checkpoint-6000/tokenizer_config.json\n",
            "Special tokens file saved in /gdrive/MyDrive/jnlpba/checkpoint-6000/special_tokens_map.json\n",
            "Saving model checkpoint to /gdrive/MyDrive/jnlpba/checkpoint-6500\n",
            "Configuration saved in /gdrive/MyDrive/jnlpba/checkpoint-6500/config.json\n",
            "Model weights saved in /gdrive/MyDrive/jnlpba/checkpoint-6500/pytorch_model.bin\n",
            "tokenizer config file saved in /gdrive/MyDrive/jnlpba/checkpoint-6500/tokenizer_config.json\n",
            "Special tokens file saved in /gdrive/MyDrive/jnlpba/checkpoint-6500/special_tokens_map.json\n",
            "Saving model checkpoint to /gdrive/MyDrive/jnlpba/checkpoint-7000\n",
            "Configuration saved in /gdrive/MyDrive/jnlpba/checkpoint-7000/config.json\n",
            "Model weights saved in /gdrive/MyDrive/jnlpba/checkpoint-7000/pytorch_model.bin\n",
            "tokenizer config file saved in /gdrive/MyDrive/jnlpba/checkpoint-7000/tokenizer_config.json\n",
            "Special tokens file saved in /gdrive/MyDrive/jnlpba/checkpoint-7000/special_tokens_map.json\n",
            "Saving model checkpoint to /gdrive/MyDrive/jnlpba/checkpoint-7500\n",
            "Configuration saved in /gdrive/MyDrive/jnlpba/checkpoint-7500/config.json\n",
            "Model weights saved in /gdrive/MyDrive/jnlpba/checkpoint-7500/pytorch_model.bin\n",
            "tokenizer config file saved in /gdrive/MyDrive/jnlpba/checkpoint-7500/tokenizer_config.json\n",
            "Special tokens file saved in /gdrive/MyDrive/jnlpba/checkpoint-7500/special_tokens_map.json\n",
            "Saving model checkpoint to /gdrive/MyDrive/jnlpba/checkpoint-8000\n",
            "Configuration saved in /gdrive/MyDrive/jnlpba/checkpoint-8000/config.json\n",
            "Model weights saved in /gdrive/MyDrive/jnlpba/checkpoint-8000/pytorch_model.bin\n",
            "tokenizer config file saved in /gdrive/MyDrive/jnlpba/checkpoint-8000/tokenizer_config.json\n",
            "Special tokens file saved in /gdrive/MyDrive/jnlpba/checkpoint-8000/special_tokens_map.json\n",
            "Saving model checkpoint to /gdrive/MyDrive/jnlpba/checkpoint-8500\n",
            "Configuration saved in /gdrive/MyDrive/jnlpba/checkpoint-8500/config.json\n",
            "Model weights saved in /gdrive/MyDrive/jnlpba/checkpoint-8500/pytorch_model.bin\n",
            "tokenizer config file saved in /gdrive/MyDrive/jnlpba/checkpoint-8500/tokenizer_config.json\n",
            "Special tokens file saved in /gdrive/MyDrive/jnlpba/checkpoint-8500/special_tokens_map.json\n",
            "Saving model checkpoint to /gdrive/MyDrive/jnlpba/checkpoint-9000\n",
            "Configuration saved in /gdrive/MyDrive/jnlpba/checkpoint-9000/config.json\n",
            "Model weights saved in /gdrive/MyDrive/jnlpba/checkpoint-9000/pytorch_model.bin\n",
            "tokenizer config file saved in /gdrive/MyDrive/jnlpba/checkpoint-9000/tokenizer_config.json\n",
            "Special tokens file saved in /gdrive/MyDrive/jnlpba/checkpoint-9000/special_tokens_map.json\n",
            "The following columns in the evaluation set don't have a corresponding argument in `DistilBertForTokenClassification.forward` and have been ignored: tokens, ner_tags, id. If tokens, ner_tags, id are not expected by `DistilBertForTokenClassification.forward`,  you can safely ignore this message.\n",
            "***** Running Evaluation *****\n",
            "  Num examples = 7714\n",
            "  Batch size = 8\n",
            "Saving model checkpoint to /gdrive/MyDrive/jnlpba/checkpoint-9500\n",
            "Configuration saved in /gdrive/MyDrive/jnlpba/checkpoint-9500/config.json\n",
            "Model weights saved in /gdrive/MyDrive/jnlpba/checkpoint-9500/pytorch_model.bin\n",
            "tokenizer config file saved in /gdrive/MyDrive/jnlpba/checkpoint-9500/tokenizer_config.json\n",
            "Special tokens file saved in /gdrive/MyDrive/jnlpba/checkpoint-9500/special_tokens_map.json\n",
            "Saving model checkpoint to /gdrive/MyDrive/jnlpba/checkpoint-10000\n",
            "Configuration saved in /gdrive/MyDrive/jnlpba/checkpoint-10000/config.json\n",
            "Model weights saved in /gdrive/MyDrive/jnlpba/checkpoint-10000/pytorch_model.bin\n",
            "tokenizer config file saved in /gdrive/MyDrive/jnlpba/checkpoint-10000/tokenizer_config.json\n",
            "Special tokens file saved in /gdrive/MyDrive/jnlpba/checkpoint-10000/special_tokens_map.json\n",
            "Saving model checkpoint to /gdrive/MyDrive/jnlpba/checkpoint-10500\n",
            "Configuration saved in /gdrive/MyDrive/jnlpba/checkpoint-10500/config.json\n",
            "Model weights saved in /gdrive/MyDrive/jnlpba/checkpoint-10500/pytorch_model.bin\n",
            "tokenizer config file saved in /gdrive/MyDrive/jnlpba/checkpoint-10500/tokenizer_config.json\n",
            "Special tokens file saved in /gdrive/MyDrive/jnlpba/checkpoint-10500/special_tokens_map.json\n",
            "Saving model checkpoint to /gdrive/MyDrive/jnlpba/checkpoint-11000\n",
            "Configuration saved in /gdrive/MyDrive/jnlpba/checkpoint-11000/config.json\n",
            "Model weights saved in /gdrive/MyDrive/jnlpba/checkpoint-11000/pytorch_model.bin\n",
            "tokenizer config file saved in /gdrive/MyDrive/jnlpba/checkpoint-11000/tokenizer_config.json\n",
            "Special tokens file saved in /gdrive/MyDrive/jnlpba/checkpoint-11000/special_tokens_map.json\n",
            "Saving model checkpoint to /gdrive/MyDrive/jnlpba/checkpoint-11500\n",
            "Configuration saved in /gdrive/MyDrive/jnlpba/checkpoint-11500/config.json\n",
            "Model weights saved in /gdrive/MyDrive/jnlpba/checkpoint-11500/pytorch_model.bin\n",
            "tokenizer config file saved in /gdrive/MyDrive/jnlpba/checkpoint-11500/tokenizer_config.json\n",
            "Special tokens file saved in /gdrive/MyDrive/jnlpba/checkpoint-11500/special_tokens_map.json\n",
            "Saving model checkpoint to /gdrive/MyDrive/jnlpba/checkpoint-12000\n",
            "Configuration saved in /gdrive/MyDrive/jnlpba/checkpoint-12000/config.json\n",
            "Model weights saved in /gdrive/MyDrive/jnlpba/checkpoint-12000/pytorch_model.bin\n",
            "tokenizer config file saved in /gdrive/MyDrive/jnlpba/checkpoint-12000/tokenizer_config.json\n",
            "Special tokens file saved in /gdrive/MyDrive/jnlpba/checkpoint-12000/special_tokens_map.json\n",
            "Saving model checkpoint to /gdrive/MyDrive/jnlpba/checkpoint-12500\n",
            "Configuration saved in /gdrive/MyDrive/jnlpba/checkpoint-12500/config.json\n",
            "Model weights saved in /gdrive/MyDrive/jnlpba/checkpoint-12500/pytorch_model.bin\n",
            "tokenizer config file saved in /gdrive/MyDrive/jnlpba/checkpoint-12500/tokenizer_config.json\n",
            "Special tokens file saved in /gdrive/MyDrive/jnlpba/checkpoint-12500/special_tokens_map.json\n"
          ]
        }
      ]
    },
    {
      "cell_type": "code",
      "source": [
        "trainer.save_model()"
      ],
      "metadata": {
        "id": "AoTjQsGfYMZj"
      },
      "execution_count": null,
      "outputs": []
    },
    {
      "cell_type": "code",
      "source": [],
      "metadata": {
        "id": "DEbcYwTTcU9U"
      },
      "execution_count": null,
      "outputs": []
    },
    {
      "cell_type": "code",
      "source": [
        "trainer.evaluate()"
      ],
      "metadata": {
        "id": "IE4YJmhQ_i1W"
      },
      "execution_count": null,
      "outputs": []
    },
    {
      "cell_type": "code",
      "source": [
        "dataset['validation']"
      ],
      "metadata": {
        "id": "tVHDqHi8rZ9H"
      },
      "execution_count": null,
      "outputs": []
    },
    {
      "cell_type": "code",
      "source": [
        "pred = trainer.predict(dataset['validation'])\n",
        "print(pred)"
      ],
      "metadata": {
        "id": "ARSyaAIjYcs4"
      },
      "execution_count": null,
      "outputs": []
    },
    {
      "cell_type": "code",
      "source": [
        "def get_spans(i, tokenized_datasets, id2ner, subset='validation'):\n",
        "  tokens = tokenized_datasets['validation'][i]['tokens']\n",
        "  label1 = tokenized_datasets['validation'][i]['ner_tags']\n",
        "  text = \"\".join(tokens)\n",
        "  \n",
        "  lis =list(map(len, tokens))\n",
        "  # lis1 = reduce(lambda x, y: x + y, lis)\n",
        "  # # print(lis1)\n",
        "  arr = np.array(lis)\n",
        "  csum = np.cumsum(arr)\n",
        "  # print(csum)\n",
        "  # print(csum)\n",
        "  arr1 = np.hstack((csum[1:-1], np.sum(arr) ))\n",
        "  # arr1 = np.hstack((np.array([0]), csum[1:-1] ))\n",
        "  # print(arr1)\n",
        "  entities = [id2ner[x] if x != -100 else \"STR\" for x in label1 ]\n",
        "  start = list(zip(csum.tolist(), arr1.tolist(), entities))\n",
        "  # print(text)\n",
        "  # print(len(start))\n",
        "  # print(start)\n",
        "\n",
        "  \n",
        "  return start, text\n",
        "  "
      ],
      "metadata": {
        "id": "2Xt_TrSqci_F"
      },
      "execution_count": null,
      "outputs": []
    },
    {
      "cell_type": "code",
      "source": [
        "def get_names(tokens_names, tokenized_datasets, id2ner, subset='test'):\n",
        "  # span[2]\n",
        "  full_name_list = []\n",
        "  for i in range(len(tokenized_datasets[subset])):\n",
        "    # print('1')\n",
        "    span_i, text_i = get_spans(i, tokenized_datasets, id2ner, subset)\n",
        "    name_list =[]\n",
        "    for s in span_i:\n",
        "      # print(s)\n",
        "      # print('2')\n",
        "      if s[2].endswith(tokens_names):\n",
        "        name_i = text_i[s[0]:s[1]]\n",
        "        print(name_i)\n",
        "        # name_list = name_list.append(name_i)\n",
        "        # \"\".join(name_list).strip()\n",
        "  #   full_name_list = full_name_list.append(name_list)\n",
        "  # print(full_name_list)"
      ],
      "metadata": {
        "id": "4V7PFvWncTKm"
      },
      "execution_count": null,
      "outputs": []
    },
    {
      "cell_type": "code",
      "source": [
        "star , text1 = get_spans(1, tokenized_datasets, label_list, subset='validation')\n",
        "print(star)"
      ],
      "metadata": {
        "id": "zF3KFcmecluJ"
      },
      "execution_count": null,
      "outputs": []
    },
    {
      "cell_type": "code",
      "source": [
        "def func(span):\n",
        "  out_span = []\n",
        "\n",
        "  for i in range(len(span)-1):\n",
        "    out_span.append((span[i][0], span[i][1], span[i+1][2]))\n",
        "  return out_span\n"
      ],
      "metadata": {
        "id": "w-oKEF7o4USP"
      },
      "execution_count": null,
      "outputs": []
    },
    {
      "cell_type": "code",
      "source": [
        "!pip install pip install ipymarkup\n"
      ],
      "metadata": {
        "id": "xrOTnxjscv4N"
      },
      "execution_count": null,
      "outputs": []
    },
    {
      "cell_type": "code",
      "source": [
        "from ipymarkup import show_span_box_markup, show_dep_ascii_markup\n",
        "\n",
        "span, text = get_spans(1, tokenized_datasets, label_list, subset='validation')\n",
        "o_span  = func(span)\n",
        "# print(span)\n",
        "# print(text)\n",
        "show_span_box_markup(text, o_span)"
      ],
      "metadata": {
        "id": "dkjuAehedEbx"
      },
      "execution_count": null,
      "outputs": []
    },
    {
      "cell_type": "code",
      "source": [
        "tokenized_datasets['validation']['tokens'][1]"
      ],
      "metadata": {
        "id": "S19km8bWeHbk"
      },
      "execution_count": null,
      "outputs": []
    },
    {
      "cell_type": "code",
      "source": [],
      "metadata": {
        "id": "IWq3eMKl9UE1"
      },
      "execution_count": null,
      "outputs": []
    }
  ]
}